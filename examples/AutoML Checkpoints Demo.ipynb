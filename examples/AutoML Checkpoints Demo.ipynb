{
 "cells": [
  {
   "cell_type": "markdown",
   "metadata": {},
   "source": [
    "# AutoML Checkpoints Demo\n"
   ]
  },
  {
   "cell_type": "raw",
   "metadata": {},
   "source": [
    "!pip install Neuraxle"
   ]
  },
  {
   "cell_type": "code",
   "execution_count": null,
   "metadata": {},
   "outputs": [],
   "source": [
    "import shutil\n",
    "import time\n",
    "from typing import Any\n",
    "import numpy as np\n",
    "from neuraxle.base import BaseStep\n",
    "from neuraxle.checkpoints import PickleCheckpointStep\n",
    "from neuraxle.hyperparams.distributions import RandInt\n",
    "from neuraxle.hyperparams.space import HyperparameterSamples, HyperparameterSpace\n",
    "from neuraxle.pipeline import ResumablePipeline, DEFAULT_CACHE_FOLDER, Pipeline\n",
    "\n",
    "%matplotlib inline\n",
    "shutil.rmtree(DEFAULT_CACHE_FOLDER)"
   ]
  },
  {
   "cell_type": "markdown",
   "metadata": {},
   "source": [
    "## Create Steps"
   ]
  },
  {
   "cell_type": "code",
   "execution_count": null,
   "metadata": {},
   "outputs": [],
   "source": [
    "class Multiplication(BaseStep):\n",
    "    def __init__(self, sleep_time=0.10, hyperparams=None, hyperparams_space=None):\n",
    "        BaseStep.__init__(self, hyperparams=hyperparams, hyperparams_space=hyperparams_space)\n",
    "        self.sleep_time = sleep_time\n",
    "\n",
    "    def fit_transform(self, data_inputs, expected_outputs=None) -> ('BaseStep', Any):\n",
    "        return self, self.transform(data_inputs)\n",
    "\n",
    "    def transform(self, data_inputs):\n",
    "        time.sleep(self.sleep_time)\n",
    "        if not isinstance(data_inputs, np.ndarray):\n",
    "            data_inputs = np.array(data_inputs)\n",
    "\n",
    "        return data_inputs * self.hyperparams['hp_mul']"
   ]
  },
  {
   "cell_type": "markdown",
   "metadata": {},
   "source": [
    "## Create Hyperparameter Spaces"
   ]
  },
  {
   "cell_type": "code",
   "execution_count": null,
   "metadata": {},
   "outputs": [],
   "source": [
    "hyperparams_space = HyperparameterSpace({\n",
    "    'multiplication_2__hp_mul': RandInt(0, 3),\n",
    "    'multiplication_3__hp_mul': RandInt(0, 3),\n",
    "    'multiplication_4__hp_mul': RandInt(0, 3),\n",
    "    'multiplication_5__hp_mul': RandInt(0, 3),\n",
    "    'multiplication_6__hp_mul': RandInt(0, 3)\n",
    "})"
   ]
  },
  {
   "cell_type": "markdown",
   "metadata": {},
   "source": [
    "# Random AutoMLSequentialWrapper"
   ]
  },
  {
   "cell_type": "code",
   "execution_count": null,
   "metadata": {},
   "outputs": [],
   "source": [
    "class AutoMLSequentialWrapper:\n",
    "    def __init__(\n",
    "            self,\n",
    "            pipeline: Pipeline,\n",
    "            hyperparameters_space: HyperparameterSpace,\n",
    "            objective_function,\n",
    "            n_iters=100\n",
    "    ):\n",
    "        self.objective_function = objective_function\n",
    "        self.hyperparameters_space = hyperparameters_space\n",
    "        self.pipeline = pipeline\n",
    "        self.n_iters = n_iters\n",
    "\n",
    "    def fit(self, data_inputs, expected_outputs) -> Pipeline:\n",
    "        best_score = None\n",
    "        best_hp = None\n",
    "        for _ in range(self.n_iters):\n",
    "            next_hp: HyperparameterSamples = self.hyperparameters_space.rvs()\n",
    "            self.pipeline.set_hyperparams(next_hp)\n",
    "\n",
    "            self.pipeline, actual_outputs = self.pipeline.fit_transform(data_inputs, expected_outputs)\n",
    "\n",
    "            score = self.objective_function(actual_outputs, expected_outputs)\n",
    "            best_score = best_score if best_score is not None else score\n",
    "\n",
    "            if score < best_score:\n",
    "                best_score = score\n",
    "                best_hp = next_hp\n",
    "\n",
    "        return self.pipeline.set_hyperparams(best_hp)\n"
   ]
  },
  {
   "cell_type": "markdown",
   "metadata": {},
   "source": [
    "## Test AutoML Pipeline function "
   ]
  },
  {
   "cell_type": "code",
   "execution_count": null,
   "metadata": {},
   "outputs": [],
   "source": [
    "def test_automl_pipeline(pipeline, hyperparams_space, data_inputs, expected_outputs):\n",
    "    time_a = time.time()\n",
    "\n",
    "    pipeline = AutoMLSequentialWrapper(\n",
    "        pipeline=pipeline,\n",
    "        n_iters=100,\n",
    "        hyperparameters_space=hyperparams_space,\n",
    "        objective_function=mean_squared_error\n",
    "    ).fit(data_inputs, expected_outputs)\n",
    "\n",
    "    pipeline, outputs = pipeline.fit_transform(data_inputs, expected_outputs)\n",
    "\n",
    "    time_b = time.time()\n",
    "\n",
    "    actual_score = mean_squared_error(outputs, expected_outputs)\n",
    "    print('{0} seconds'.format(time_b - time_a))\n",
    "    print('output: {0}'.format(outputs))\n",
    "    print('smallest error: {0}'.format(actual_score))\n",
    "    print('best hyperparams: {0}'.format(pipeline.get_hyperparams()))\n"
   ]
  },
  {
   "cell_type": "markdown",
   "metadata": {},
   "source": [
    "## Data Inputs And Expected Outputs"
   ]
  },
  {
   "cell_type": "code",
   "execution_count": null,
   "metadata": {},
   "outputs": [],
   "source": [
    "data_inputs = np.array(range(10))\n",
    "expected_outputs = np.array(range(10, 20))"
   ]
  },
  {
   "cell_type": "markdown",
   "metadata": {},
   "source": [
    "## Test AutoML with ``Pipeline``"
   ]
  },
  {
   "cell_type": "code",
   "execution_count": null,
   "metadata": {},
   "outputs": [],
   "source": [
    "pipeline = Pipeline([\n",
    "    ('multiplication_2', Multiplication(sleep_time=0.1)),\n",
    "    ('multiplication_3', Multiplication(sleep_time=0.1)),\n",
    "    ('multiplication_4', Multiplication(sleep_time=0.1)),\n",
    "    ('multiplication_5', Multiplication(sleep_time=0.1)),\n",
    "    ('multiplication_6', Multiplication(sleep_time=0.1)),\n",
    "])\n",
    "\n",
    "test_automl_pipeline(pipeline, hyperparams_space, data_inputs, expected_outputs)"
   ]
  },
  {
   "cell_type": "markdown",
   "metadata": {},
   "source": [
    "## Test AutoML with ``ResumablePipeline``"
   ]
  },
  {
   "cell_type": "code",
   "execution_count": null,
   "metadata": {},
   "outputs": [],
   "source": [
    "resumable_pipeline = ResumablePipeline([\n",
    "    ('multiplication_2', Multiplication(sleep_time=0.1)),\n",
    "    ('multiplication_3', Multiplication(sleep_time=0.1)),\n",
    "    ('checkpoint_1', PickleCheckpointStep()),\n",
    "    ('multiplication_4', Multiplication(sleep_time=0.1)),\n",
    "    ('multiplication_5', Multiplication(sleep_time=0.1)),\n",
    "    ('checkpoint_2', PickleCheckpointStep()),\n",
    "    ('multiplication_6', Multiplication(sleep_time=0.1)),\n",
    "])\n",
    "\n",
    "test_automl_pipeline(resumable_pipeline, hyperparams_space, data_inputs, expected_outputs)"
   ]
  }
 ],
 "metadata": {
  "kernelspec": {
   "display_name": "Python 3",
   "language": "python",
   "name": "python3"
  },
  "language_info": {
   "codemirror_mode": {
    "name": "ipython",
    "version": 3
   },
   "file_extension": ".py",
   "mimetype": "text/x-python",
   "name": "python",
   "nbconvert_exporter": "python",
   "pygments_lexer": "ipython3",
   "version": "3.6.8"
  }
 },
 "nbformat": 4,
 "nbformat_minor": 4
}
