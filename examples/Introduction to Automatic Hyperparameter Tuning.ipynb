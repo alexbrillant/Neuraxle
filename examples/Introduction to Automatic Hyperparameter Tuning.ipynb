{
 "cells": [
  {
   "cell_type": "markdown",
   "metadata": {},
   "source": [
    "# Introduction to Automatic Hyperparameter Tuning\n",
    "\n",
    "> Also known as AutoML, Automatic Machine Learning, Meta-optimization, Meta-learning, and so on.\n",
    "\n",
    "So not only you want to build neural networks and other machine learning algorithms, but also you want to find the best hyperparameters for them automatically. We'll here demonstrate how it's possible with Neuraxle. \n",
    "\n",
    "Let's first explore the hyperparameter distributions that are available by plotting them, then let's see how we can narrow hyperparameter spaces and define new statistical hyperparameter distributions. \n",
    "\n",
    "## Plotting Each Hyperparameter Distribution\n",
    "\n",
    "Let's first define a few functions to then plot them each. "
   ]
  },
  {
   "cell_type": "code",
   "execution_count": null,
   "metadata": {
    "scrolled": false
   },
   "outputs": [],
   "source": [
    "# Note: some of the code in the present code block is derived from another project licensed under The MIT License (MIT), Copyright (c) 2017 Vooban Inc. For the full information, see:\n",
    "#     https://github.com/guillaume-chevalier/Hyperopt-Keras-CNN-CIFAR-100/blob/Vooban/LICENSE\n",
    "\n",
    "from neuraxle.hyperparams.distributions import *\n",
    "from neuraxle.hyperparams.space import HyperparameterSpace\n",
    "import matplotlib.pyplot as plt\n",
    "import numpy as np\n",
    "from scipy.stats.kde import gaussian_kde\n",
    "\n",
    "%matplotlib inline\n",
    "\n",
    "NUM_TRIALS = 10000\n",
    "\n",
    "\n",
    "def plot_distribution(title: str, distribution: HyperparameterDistribution):\n",
    "    samples = np.array([\n",
    "        distribution.rvs() for _ in range(NUM_TRIALS)\n",
    "    ]).flatten()\n",
    "    \n",
    "    x_domain = np.linspace(min(samples), max(samples), NUM_TRIALS)\n",
    "\n",
    "    plt.figure(figsize=(17,5))\n",
    "    \n",
    "    hist = gaussian_kde(samples, 0.001)\n",
    "    plt.plot(x_domain, hist(x_domain), label=\"True Histogram\")\n",
    "    \n",
    "    blurred_hist = gaussian_kde(samples, 0.1)\n",
    "    plt.plot(x_domain, blurred_hist(x_domain), label=\"Smoothed Histogram\")\n",
    "    \n",
    "    plt.title(\"Histogram (pdf) for a {} distribution\".format(title))\n",
    "    plt.legend()\n",
    "    plt.show()\n",
    "\n",
    "def plot_hyperparameter_space(hyperparameter_space: HyperparameterSpace):\n",
    "    for title, distribution in hyperparameter_space.items():\n",
    "        plot_distribution(title, distribution)\n"
   ]
  },
  {
   "cell_type": "markdown",
   "metadata": {},
   "source": [
    "### Continuous Hyperparameter Distributions\n",
    "\n",
    "Here are a usage example of the continuous hyperparameter distributions, as well as charts. Those are probably the ones you'll most use. \n",
    "\n",
    "Note: the orange lines are blurred averages of the blue lines to see the overall trend. You can ignore the weird border effect at the left and right of the distributions, which in fact just blurs to zero."
   ]
  },
  {
   "cell_type": "code",
   "execution_count": null,
   "metadata": {
    "scrolled": false
   },
   "outputs": [],
   "source": [
    "continuous_hyperparameter_space = HyperparameterSpace({\n",
    "    \"uniform\": Uniform(-10, 10),\n",
    "    \"loguniform\": LogUniform(0.1, 1),\n",
    "    \"normal\": Normal(0.0, 1.0, hard_clip_min=-4, hard_clip_max=4),\n",
    "    \"lognormal\": LogNormal(1.0, 0.5, hard_clip_min=0, hard_clip_max=10)\n",
    "})\n",
    "plot_hyperparameter_space(continuous_hyperparameter_space)"
   ]
  },
  {
   "cell_type": "markdown",
   "metadata": {},
   "source": [
    "### Quantized Hyperparameter Distributions\n",
    "\n",
    "Here are now the quantized hyperparameter distributions. Those are distributions that yield integers or other precise specific values. \n",
    "\n",
    "Also, notice how there are border effects to the left and right of the charts when we use `Quantized(...)` as a distribution wrapper to round the numbers. Those weird border effect wouldn't appear if you'd limit the distribution to half numbers instead of plain number. Let's say you have a `Quantized(Uniform(-10, 10))`: then the samples from approximately -9.5 to -8.5 are rounded to the bin of the number -9, but the values from -10 to -9.5 are rounder to the bin -10 and a half is missing, so the -10 bin sees its values sampled half as often as -9. That explains the border effect, and you could fix it easily by taking the uniform range from -10.49999 to 10.49999."
   ]
  },
  {
   "cell_type": "code",
   "execution_count": null,
   "metadata": {
    "scrolled": false
   },
   "outputs": [],
   "source": [
    "quantized_hyperparameter_space = HyperparameterSpace({\n",
    "    \"randint\": RandInt(-10, 10),\n",
    "    \"quantized uniform\": Quantized(Uniform(-10, 10)),\n",
    "    \"repaired quantized uniform\": Quantized(Uniform(-10.49999, 10.49999)),\n",
    "    \"quantized loguniform\": Quantized(LogUniform(1.0, 10.0)),\n",
    "    \"quantized normal\": Quantized(Normal(0.0, 1.0, hard_clip_min=-4, hard_clip_max=4)),\n",
    "    \"quantized lognormal\": Quantized(LogNormal(1.0, 0.5, hard_clip_min=0.0001, hard_clip_max=10))\n",
    "})\n",
    "plot_hyperparameter_space(quantized_hyperparameter_space)"
   ]
  },
  {
   "cell_type": "markdown",
   "metadata": {},
   "source": [
    "### Other Hyperparameter Distributions"
   ]
  },
  {
   "cell_type": "code",
   "execution_count": null,
   "metadata": {
    "scrolled": false
   },
   "outputs": [],
   "source": [
    "other_hyperparameter_space = HyperparameterSpace({\n",
    "    \"boolean\": Boolean(),\n",
    "    \"choice\": Choice([0, 1, 3]),\n",
    "    \"priority_choice\": PriorityChoice([0, 1, 3])\n",
    "})\n",
    "plot_hyperparameter_space(other_hyperparameter_space)"
   ]
  },
  {
   "cell_type": "markdown",
   "metadata": {},
   "source": [
    "There is finally also the FixedHyperparameter distribution, which you can create to return always the same value. For example, `FixedHyperparameter(42)`. Althought using the number 42 directly would do the job, some of the above hyperparameter distributions may return FixedHyperparameter distributions when narrowed. \n",
    "\n",
    "\n",
    "## Narrowing Hyperparameter Spaces: a Detailed Example\n",
    "\n",
    "You now took a look at the basic hyperparameter distributions available in Neuraxle. For each of them, it's possible to narrow them down to a smaller range as the hyperparameter search progresses and converges towards best guesses. \n",
    "\n",
    "It's possible to take a sample from the distribution and to send them to the space and to ask to narrow down the space towards this sample. Each distributions behave differently. \n",
    "\n",
    "For example, the Choice will take the best guess instantly when being narrowed but IF the narrowing ratio is small enough for only one item to be kept, proportionally. You could instead use the PriorityChoice which would remove each options by keeping the ones at the beginning of the list, and also bringing back to the beginning the best guess every time. Let's look at a concrete example below. "
   ]
  },
  {
   "cell_type": "code",
   "execution_count": null,
   "metadata": {
    "scrolled": false
   },
   "outputs": [],
   "source": [
    "\n",
    "hyperparameter_space_to_narrow = HyperparameterSpace({\n",
    "    \"uniform\": Uniform(-10, 10),\n",
    "    \"loguniform\": LogUniform(0.1, 1),\n",
    "    \"choice\": Choice([3, 0, 1, 2]),\n",
    "    \"priority choice\": PriorityChoice([3, 0, 1, 2]),\n",
    "})\n",
    "print(\"Here is the hyperparameter space BEFORE narrowing:\")\n",
    "plot_hyperparameter_space(hyperparameter_space_to_narrow)\n",
    "\n",
    "sample = hyperparameter_space_to_narrow.rvs()\n",
    "print(\"Here is a sample from the hyperparameter space towards which we'll narrow the space:\")\n",
    "print(sample)\n",
    "print(\"Note that we'll narrow the space towards that, and by \"\n",
    "      \"also using `kept_space_ratio=0.75` which will split the space in half.\")\n",
    "\n",
    "hyperparameter_space_to_narrow = hyperparameter_space_to_narrow.narrow_space_from_best_guess(\n",
    "    sample, kept_space_ratio=0.75)\n",
    "\n",
    "print(\"Here is the hyperparameter space AFTER narrowing:\")\n",
    "plot_hyperparameter_space(hyperparameter_space_to_narrow)\n",
    "\n",
    "sample = hyperparameter_space_to_narrow.rvs()\n",
    "print(\"Here is a sample from the NARROWED hyperparameter space:\")\n",
    "print(sample)\n",
    "print(\"Note that you could narrow the space as many times in a row as you want, and also restore \"\n",
    "      \"it to its default with a call to `.unnarow()` to restore it to non-narrowed settings.\")\n",
    "\n",
    "hyperparameter_space_to_narrow = hyperparameter_space_to_narrow.unnarrow()\n"
   ]
  },
  {
   "cell_type": "markdown",
   "metadata": {},
   "source": [
    "\n",
    "## Creating your own distributions\n",
    "\n",
    "Why would we limit our users to use just the pre-made distributions?!\n",
    "\n",
    "Each distribution inherits and implements a base distribution class named HyperparameterDistribution which you can inherit and implement as needed. The most important is to define the `.rvs()` function that will sample a random value from the distribution, and also to implement the method `narrow_space_from_best_guess(...)` so as to tell the distribution how to be narrowed. Finally, the call to `super(...).__init__()` needs to be done in the `__init__`.\n",
    "\n",
    "It's easier than it looks! Here is for example how the RandInt distribution is coded: "
   ]
  },
  {
   "cell_type": "code",
   "execution_count": null,
   "metadata": {},
   "outputs": [],
   "source": [
    "\n",
    "class RandInt(HyperparameterDistribution):\n",
    "    \"\"\"Get a random integer within a range\"\"\"\n",
    "\n",
    "    def __init__(self, min_included: int, max_included: int):\n",
    "        \"\"\"\n",
    "        Create a quantized random uniform distribution.\n",
    "        A random integer between the two values inclusively will be returned.\n",
    "\n",
    "        :param min_included: minimum integer, included.\n",
    "        :param max_included: maximum integer, included.\n",
    "        \"\"\"\n",
    "        self.min_included = min_included\n",
    "        self.max_included = max_included\n",
    "        super(RandInt, self).__init__()\n",
    "\n",
    "    def rvs(self) -> int:\n",
    "        \"\"\"\n",
    "        Will return an integer in the specified range as specified at creation.\n",
    "\n",
    "        :return: an integer.\n",
    "        \"\"\"\n",
    "        return random.randint(self.min_included, self.max_included)\n",
    "\n",
    "    def narrow_space_from_best_guess(self, best_guess, kept_space_ratio: float = 0.5) -> HyperparameterDistribution:\n",
    "        \"\"\"\n",
    "        Will narrow the underlying distribution towards the best guess.\n",
    "\n",
    "        :param best_guess: the value towards which we want to narrow down the space. Should be between 0.0 and 1.0.\n",
    "        :param kept_space_ratio: what proportion of the space is kept. Default is to keep half the space (0.5).\n",
    "        :return: a new HyperparameterDistribution that has been narrowed down.\n",
    "        \"\"\"\n",
    "        lost_space_ratio = 1.0 - kept_space_ratio\n",
    "        new_min_included = round(self.min_included * kept_space_ratio + best_guess * lost_space_ratio)\n",
    "        new_max_included = round(self.max_included * kept_space_ratio + best_guess * lost_space_ratio)\n",
    "        if new_max_included <= new_min_included or kept_space_ratio == 0.0:\n",
    "            return FixedHyperparameter(best_guess).was_narrowed_from(kept_space_ratio, self)\n",
    "        return RandInt(new_min_included, new_max_included).was_narrowed_from(kept_space_ratio, self)\n"
   ]
  },
  {
   "cell_type": "markdown",
   "metadata": {},
   "source": [
    "If you ever add new distributions, we'd be glad that you open a pull request to add them. \n",
    "\n"
   ]
  },
  {
   "cell_type": "code",
   "execution_count": null,
   "metadata": {},
   "outputs": [],
   "source": []
  }
 ],
 "metadata": {
  "kernelspec": {
   "display_name": "Python 3",
   "language": "python",
   "name": "python3"
  },
  "language_info": {
   "codemirror_mode": {
    "name": "ipython",
    "version": 3
   },
   "file_extension": ".py",
   "mimetype": "text/x-python",
   "name": "python",
   "nbconvert_exporter": "python",
   "pygments_lexer": "ipython3",
   "version": "3.6.7"
  }
 },
 "nbformat": 4,
 "nbformat_minor": 2
}
