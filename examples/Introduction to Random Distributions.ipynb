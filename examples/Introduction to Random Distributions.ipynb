{
 "cells": [
  {
   "cell_type": "markdown",
   "metadata": {},
   "source": [
    "# Introduction to random distribution\n",
    "\n",
    "> Correctly called random variable, these random variable are usefull in hyperparameter tuning.  \n",
    "\n",
    "For each hyperparmeter, a range can be defined, that is, a statistical distribution, which makes the hyperparameter a random variable.\n",
    "This random variable will defined what value the hyperparameter is likely to take. \n",
    "\n",
    "Let's explore the hyperparameter distributions, by plotting the following graph :\n",
    "    - Probability distribution function (pdf) or probability mass function (pmf)\n",
    "    - Cumulative distribution function (cdf)\n",
    "    - Histogram of sampling. \n",
    "\n",
    "## Plotting Each Hyperparameter Distribution\n",
    "\n",
    "Let's import plotting functions, and neuraxle hyperparameter classes. "
   ]
  },
  {
   "cell_type": "code",
   "execution_count": 13,
   "metadata": {
    "pycharm": {
     "is_executing": false,
     "name": "#%%\n"
    }
   },
   "outputs": [],
   "source": [
    "# Note: some of the code in the present code block is derived from another project licensed under The MIT License (MIT), \n",
    "# Copyright (c) 2017 Vooban Inc. For the full information, see:\n",
    "#     https://github.com/guillaume-chevalier/Hyperopt-Keras-CNN-CIFAR-100/blob/Vooban/LICENSE\n",
    "\n",
    "from neuraxle.hyperparams.distributions import *\n",
    "from neuraxle.hyperparams.space import HyperparameterSpace\n",
    "from plotting import *\n",
    "import matplotlib.pyplot as plt\n",
    "import numpy as np\n",
    "%matplotlib inline\n",
    "\n",
    "DISCRETE_NUM_BINS = 40\n",
    "CONTINUOUS_NUM_BINS = 1000\n",
    "NUM_TRIALS = 100000\n",
    "X_DOMAIN = np.array(range(-100, 600)) / 100"
   ]
  },
  {
   "cell_type": "markdown",
   "metadata": {},
   "source": [
    "## Discrete Distributions\n",
    "\n",
    "- Here are now the discrete standard distributions, which sample discrete value or categories.\n",
    "- For example, Boolean distribution gives either true or false."
   ]
  },
  {
   "cell_type": "markdown",
   "metadata": {},
   "source": [
    "### RandInt"
   ]
  },
  {
   "cell_type": "code",
   "execution_count": 14,
   "metadata": {
    "pycharm": {
     "is_executing": true,
     "name": "#%%\n"
    }
   },
   "outputs": [
    {
     "name": "stdout",
     "output_type": "stream",
     "text": [
      "randint:\n"
     ]
    },
    {
     "ename": "AttributeError",
     "evalue": "'RandInt' object has no attribute 'pdf'",
     "output_type": "error",
     "traceback": [
      "\u001b[0;31m---------------------------------------------------------------------------\u001b[0m",
      "\u001b[0;31mAttributeError\u001b[0m                            Traceback (most recent call last)",
      "\u001b[0;32m<ipython-input-14-bda86c63601e>\u001b[0m in \u001b[0;36m<module>\u001b[0;34m\u001b[0m\n\u001b[1;32m      3\u001b[0m })\n\u001b[1;32m      4\u001b[0m \u001b[0;34m\u001b[0m\u001b[0m\n\u001b[0;32m----> 5\u001b[0;31m \u001b[0mplot_distribution_space\u001b[0m\u001b[0;34m(\u001b[0m\u001b[0mdiscrete_hyperparameter_space\u001b[0m\u001b[0;34m,\u001b[0m \u001b[0mnum_bins\u001b[0m\u001b[0;34m=\u001b[0m\u001b[0mDISCRETE_NUM_BINS\u001b[0m\u001b[0;34m)\u001b[0m\u001b[0;34m\u001b[0m\u001b[0;34m\u001b[0m\u001b[0m\n\u001b[0m",
      "\u001b[0;32m~/Documents/Neuraxle/examples/plotting.py\u001b[0m in \u001b[0;36mplot_distribution_space\u001b[0;34m(hyperparameter_space, num_bins)\u001b[0m\n\u001b[1;32m     75\u001b[0m     \u001b[0;32mfor\u001b[0m \u001b[0mtitle\u001b[0m\u001b[0;34m,\u001b[0m \u001b[0mdistribution\u001b[0m \u001b[0;32min\u001b[0m \u001b[0mhyperparameter_space\u001b[0m\u001b[0;34m.\u001b[0m\u001b[0mitems\u001b[0m\u001b[0;34m(\u001b[0m\u001b[0;34m)\u001b[0m\u001b[0;34m:\u001b[0m\u001b[0;34m\u001b[0m\u001b[0;34m\u001b[0m\u001b[0m\n\u001b[1;32m     76\u001b[0m         \u001b[0mprint\u001b[0m\u001b[0;34m(\u001b[0m\u001b[0mtitle\u001b[0m \u001b[0;34m+\u001b[0m \u001b[0;34m\":\"\u001b[0m\u001b[0;34m)\u001b[0m\u001b[0;34m\u001b[0m\u001b[0;34m\u001b[0m\u001b[0m\n\u001b[0;32m---> 77\u001b[0;31m         \u001b[0mplot_histogram\u001b[0m\u001b[0;34m(\u001b[0m\u001b[0mtitle\u001b[0m\u001b[0;34m,\u001b[0m \u001b[0mdistribution\u001b[0m\u001b[0;34m,\u001b[0m \u001b[0mnum_bins\u001b[0m\u001b[0;34m=\u001b[0m\u001b[0mnum_bins\u001b[0m\u001b[0;34m)\u001b[0m\u001b[0;34m\u001b[0m\u001b[0;34m\u001b[0m\u001b[0m\n\u001b[0m\u001b[1;32m     78\u001b[0m         \u001b[0mplot_pdf_cdf\u001b[0m\u001b[0;34m(\u001b[0m\u001b[0mtitle\u001b[0m\u001b[0;34m,\u001b[0m \u001b[0mdistribution\u001b[0m\u001b[0;34m)\u001b[0m\u001b[0;34m\u001b[0m\u001b[0;34m\u001b[0m\u001b[0m\n\u001b[1;32m     79\u001b[0m \u001b[0;34m\u001b[0m\u001b[0m\n",
      "\u001b[0;32m~/Documents/Neuraxle/examples/plotting.py\u001b[0m in \u001b[0;36mplot_histogram\u001b[0;34m(title, distribution, num_bins)\u001b[0m\n\u001b[1;32m     21\u001b[0m     \u001b[0;32mfor\u001b[0m \u001b[0mvalue\u001b[0m \u001b[0;32min\u001b[0m \u001b[0mX_DOMAIN\u001b[0m\u001b[0;34m:\u001b[0m\u001b[0;34m\u001b[0m\u001b[0;34m\u001b[0m\u001b[0m\n\u001b[1;32m     22\u001b[0m         \u001b[0;32mtry\u001b[0m\u001b[0;34m:\u001b[0m\u001b[0;34m\u001b[0m\u001b[0;34m\u001b[0m\u001b[0m\n\u001b[0;32m---> 23\u001b[0;31m             \u001b[0mpdf_values\u001b[0m\u001b[0;34m.\u001b[0m\u001b[0mappend\u001b[0m\u001b[0;34m(\u001b[0m\u001b[0mdistribution\u001b[0m\u001b[0;34m.\u001b[0m\u001b[0mpdf\u001b[0m\u001b[0;34m(\u001b[0m\u001b[0mvalue\u001b[0m\u001b[0;34m)\u001b[0m\u001b[0;34m)\u001b[0m\u001b[0;34m\u001b[0m\u001b[0;34m\u001b[0m\u001b[0m\n\u001b[0m\u001b[1;32m     24\u001b[0m         \u001b[0;32mexcept\u001b[0m \u001b[0mValueError\u001b[0m\u001b[0;34m:\u001b[0m\u001b[0;34m\u001b[0m\u001b[0;34m\u001b[0m\u001b[0m\n\u001b[1;32m     25\u001b[0m             \u001b[0mpdf_values\u001b[0m\u001b[0;34m.\u001b[0m\u001b[0mappend\u001b[0m\u001b[0;34m(\u001b[0m\u001b[0;36m0.\u001b[0m\u001b[0;34m)\u001b[0m\u001b[0;34m\u001b[0m\u001b[0;34m\u001b[0m\u001b[0m\n",
      "\u001b[0;31mAttributeError\u001b[0m: 'RandInt' object has no attribute 'pdf'"
     ]
    }
   ],
   "source": [
    "discrete_hyperparameter_space = HyperparameterSpace({\n",
    "    \"randint\": RandInt(1, 4)\n",
    "})\n",
    "\n",
    "plot_distribution_space(discrete_hyperparameter_space, num_bins=DISCRETE_NUM_BINS)\n"
   ]
  },
  {
   "cell_type": "markdown",
   "metadata": {},
   "source": [
    "### Boolean"
   ]
  },
  {
   "cell_type": "code",
   "execution_count": 12,
   "metadata": {},
   "outputs": [
    {
     "name": "stdout",
     "output_type": "stream",
     "text": [
      "boolean:\n"
     ]
    },
    {
     "ename": "AttributeError",
     "evalue": "'Boolean' object has no attribute 'pdf'",
     "output_type": "error",
     "traceback": [
      "\u001b[0;31m---------------------------------------------------------------------------\u001b[0m",
      "\u001b[0;31mAttributeError\u001b[0m                            Traceback (most recent call last)",
      "\u001b[0;32m<ipython-input-12-492066de520f>\u001b[0m in \u001b[0;36m<module>\u001b[0;34m\u001b[0m\n\u001b[1;32m      2\u001b[0m     \u001b[0;34m\"boolean\"\u001b[0m\u001b[0;34m:\u001b[0m \u001b[0mBoolean\u001b[0m\u001b[0;34m(\u001b[0m\u001b[0;34m)\u001b[0m\u001b[0;34m\u001b[0m\u001b[0;34m\u001b[0m\u001b[0m\n\u001b[1;32m      3\u001b[0m })\n\u001b[0;32m----> 4\u001b[0;31m \u001b[0mplot_distribution_space\u001b[0m\u001b[0;34m(\u001b[0m\u001b[0mdiscrete_hyperparameter_space\u001b[0m\u001b[0;34m,\u001b[0m \u001b[0mnum_bins\u001b[0m\u001b[0;34m=\u001b[0m\u001b[0mDISCRETE_NUM_BINS\u001b[0m\u001b[0;34m)\u001b[0m\u001b[0;34m\u001b[0m\u001b[0;34m\u001b[0m\u001b[0m\n\u001b[0m",
      "\u001b[0;32m~/Documents/Neuraxle/examples/plotting.py\u001b[0m in \u001b[0;36mplot_distribution_space\u001b[0;34m(hyperparameter_space, num_bins)\u001b[0m\n\u001b[1;32m     75\u001b[0m \u001b[0;32mdef\u001b[0m \u001b[0mplot_distribution_space\u001b[0m\u001b[0;34m(\u001b[0m\u001b[0mhyperparameter_space\u001b[0m\u001b[0;34m:\u001b[0m \u001b[0mHyperparameterSpace\u001b[0m\u001b[0;34m,\u001b[0m \u001b[0mnum_bins\u001b[0m\u001b[0;34m=\u001b[0m\u001b[0;36m50\u001b[0m\u001b[0;34m)\u001b[0m\u001b[0;34m:\u001b[0m\u001b[0;34m\u001b[0m\u001b[0;34m\u001b[0m\u001b[0m\n\u001b[1;32m     76\u001b[0m     \u001b[0;32mfor\u001b[0m \u001b[0mtitle\u001b[0m\u001b[0;34m,\u001b[0m \u001b[0mdistribution\u001b[0m \u001b[0;32min\u001b[0m \u001b[0mhyperparameter_space\u001b[0m\u001b[0;34m.\u001b[0m\u001b[0mitems\u001b[0m\u001b[0;34m(\u001b[0m\u001b[0;34m)\u001b[0m\u001b[0;34m:\u001b[0m\u001b[0;34m\u001b[0m\u001b[0;34m\u001b[0m\u001b[0m\n\u001b[0;32m---> 77\u001b[0;31m         \u001b[0mprint\u001b[0m\u001b[0;34m(\u001b[0m\u001b[0mtitle\u001b[0m \u001b[0;34m+\u001b[0m \u001b[0;34m\":\"\u001b[0m\u001b[0;34m)\u001b[0m\u001b[0;34m\u001b[0m\u001b[0;34m\u001b[0m\u001b[0m\n\u001b[0m\u001b[1;32m     78\u001b[0m         \u001b[0mplot_histogram\u001b[0m\u001b[0;34m(\u001b[0m\u001b[0mtitle\u001b[0m\u001b[0;34m,\u001b[0m \u001b[0mdistribution\u001b[0m\u001b[0;34m,\u001b[0m \u001b[0mnum_bins\u001b[0m\u001b[0;34m=\u001b[0m\u001b[0mnum_bins\u001b[0m\u001b[0;34m)\u001b[0m\u001b[0;34m\u001b[0m\u001b[0;34m\u001b[0m\u001b[0m\n\u001b[1;32m     79\u001b[0m         \u001b[0mplot_pdf_cdf\u001b[0m\u001b[0;34m(\u001b[0m\u001b[0mtitle\u001b[0m\u001b[0;34m,\u001b[0m \u001b[0mdistribution\u001b[0m\u001b[0;34m)\u001b[0m\u001b[0;34m\u001b[0m\u001b[0;34m\u001b[0m\u001b[0m\n",
      "\u001b[0;32m~/Documents/Neuraxle/examples/plotting.py\u001b[0m in \u001b[0;36mplot_histogram\u001b[0;34m(title, distribution, num_bins)\u001b[0m\n\u001b[1;32m     21\u001b[0m     \u001b[0;32mfor\u001b[0m \u001b[0mvalue\u001b[0m \u001b[0;32min\u001b[0m \u001b[0mX_DOMAIN\u001b[0m\u001b[0;34m:\u001b[0m\u001b[0;34m\u001b[0m\u001b[0;34m\u001b[0m\u001b[0m\n\u001b[1;32m     22\u001b[0m         \u001b[0;32mtry\u001b[0m\u001b[0;34m:\u001b[0m\u001b[0;34m\u001b[0m\u001b[0;34m\u001b[0m\u001b[0m\n\u001b[0;32m---> 23\u001b[0;31m             \u001b[0mprint\u001b[0m\u001b[0;34m(\u001b[0m\u001b[0mvalue\u001b[0m\u001b[0;34m)\u001b[0m\u001b[0;34m\u001b[0m\u001b[0;34m\u001b[0m\u001b[0m\n\u001b[0m\u001b[1;32m     24\u001b[0m             \u001b[0;31m# pdf_values.append(distribution.pdf(value))\u001b[0m\u001b[0;34m\u001b[0m\u001b[0;34m\u001b[0m\u001b[0;34m\u001b[0m\u001b[0m\n\u001b[1;32m     25\u001b[0m         \u001b[0;32mexcept\u001b[0m \u001b[0mValueError\u001b[0m\u001b[0;34m:\u001b[0m\u001b[0;34m\u001b[0m\u001b[0;34m\u001b[0m\u001b[0m\n",
      "\u001b[0;31mAttributeError\u001b[0m: 'Boolean' object has no attribute 'pdf'"
     ]
    }
   ],
   "source": [
    "discrete_hyperparameter_space = HyperparameterSpace({\n",
    "    \"boolean\": Boolean()\n",
    "})\n",
    "plot_distribution_space(discrete_hyperparameter_space, num_bins=DISCRETE_NUM_BINS)"
   ]
  },
  {
   "cell_type": "markdown",
   "metadata": {},
   "source": [
    "### Choice"
   ]
  },
  {
   "cell_type": "code",
   "execution_count": null,
   "metadata": {},
   "outputs": [],
   "source": [
    "discrete_hyperparameter_space = HyperparameterSpace({\n",
    "    \"choice\": Choice([0, 1, 3])\n",
    "})\n",
    "plot_distribution_space(discrete_hyperparameter_space, num_bins=DISCRETE_NUM_BINS)"
   ]
  },
  {
   "cell_type": "markdown",
   "metadata": {},
   "source": [
    "### Priority Choice"
   ]
  },
  {
   "cell_type": "code",
   "execution_count": null,
   "metadata": {},
   "outputs": [],
   "source": [
    "discrete_hyperparameter_space = HyperparameterSpace({\n",
    "    \"priority_choice\": PriorityChoice([0, 1, 3])\n",
    "})\n",
    "plot_distribution_space(discrete_hyperparameter_space, num_bins=DISCRETE_NUM_BINS)"
   ]
  },
  {
   "cell_type": "markdown",
   "metadata": {
    "pycharm": {
     "name": "#%%\n"
    }
   },
   "source": [
    "## Continuous Distributions\n",
    "\n",
    "- Here are now the continuous distributions, which sample a continuous range of values. Those are probably the ones you'll most use. "
   ]
  },
  {
   "cell_type": "markdown",
   "metadata": {},
   "source": [
    "### Continuous Uniform"
   ]
  },
  {
   "cell_type": "code",
   "execution_count": null,
   "metadata": {
    "pycharm": {
     "is_executing": true,
     "name": "#%%\n"
    }
   },
   "outputs": [],
   "source": [
    "continuous_hyperparameter_space = HyperparameterSpace({\n",
    "    \"uniform\": Uniform(2., 4.)\n",
    "})\n",
    "plot_distribution_space(continuous_hyperparameter_space, num_bins=CONTINUOUS_NUM_BINS)"
   ]
  },
  {
   "cell_type": "markdown",
   "metadata": {},
   "source": [
    "### Continuous Loguniform"
   ]
  },
  {
   "cell_type": "code",
   "execution_count": null,
   "metadata": {},
   "outputs": [],
   "source": [
    "continuous_hyperparameter_space = HyperparameterSpace({\n",
    "    \"loguniform\": LogUniform(1., 4.)\n",
    "})\n",
    "plot_distribution_space(continuous_hyperparameter_space, num_bins=CONTINUOUS_NUM_BINS)"
   ]
  },
  {
   "cell_type": "markdown",
   "metadata": {},
   "source": [
    "### Continuous Normal"
   ]
  },
  {
   "cell_type": "code",
   "execution_count": null,
   "metadata": {},
   "outputs": [],
   "source": [
    "continuous_hyperparameter_space = HyperparameterSpace({\n",
    "    \"normal\": Normal(3.0, 1.0)\n",
    "})\n",
    "plot_distribution_space(continuous_hyperparameter_space, num_bins=CONTINUOUS_NUM_BINS)"
   ]
  },
  {
   "cell_type": "markdown",
   "metadata": {},
   "source": [
    "### Continuous Lognormal"
   ]
  },
  {
   "cell_type": "code",
   "execution_count": null,
   "metadata": {},
   "outputs": [],
   "source": [
    "continuous_hyperparameter_space = HyperparameterSpace({\n",
    "    \"lognormal\": LogNormal(1.0, 0.5)\n",
    "})\n",
    "plot_distribution_space(continuous_hyperparameter_space, num_bins=CONTINUOUS_NUM_BINS)"
   ]
  },
  {
   "cell_type": "markdown",
   "metadata": {},
   "source": [
    "### Continuous Normal Clipped "
   ]
  },
  {
   "cell_type": "code",
   "execution_count": null,
   "metadata": {},
   "outputs": [],
   "source": [
    "continuous_hyperparameter_space = HyperparameterSpace({\n",
    "    \"normal_clipped\": Normal(3.0, 1.0, hard_clip_min=1., hard_clip_max=5.)\n",
    "})\n",
    "plot_distribution_space(continuous_hyperparameter_space, num_bins=CONTINUOUS_NUM_BINS)"
   ]
  },
  {
   "cell_type": "markdown",
   "metadata": {},
   "source": [
    "### Continuous Lognormal Clipped"
   ]
  },
  {
   "cell_type": "code",
   "execution_count": null,
   "metadata": {},
   "outputs": [],
   "source": [
    "continuous_hyperparameter_space = HyperparameterSpace({\n",
    "    \"lognormal_clipped\": LogNormal(1.0, 0.5, hard_clip_min=2., hard_clip_max=4.)\n",
    "})\n",
    "plot_distribution_space(continuous_hyperparameter_space, num_bins=CONTINUOUS_NUM_BINS)"
   ]
  },
  {
   "cell_type": "markdown",
   "metadata": {
    "pycharm": {
     "name": "#%%\n"
    }
   },
   "source": [
    "## Quantized Hyperparameter Distributions\n",
    "\n",
    "- Here are now the quantized hyperparameter distributions. Those are distributions that yield integers or other precise specific values. \n",
    "- Also, notice how there are border effects to the left and right of the charts when we use `Quantized(...)` as a distribution wrapper to round the numbers. \n",
    "- Those weird border effect wouldn't appear if you'd limit the distribution to half numbers instead of plain number. \n",
    "- Let's say you have a `Quantized(Uniform(-10, 10))`: then the samples from approximately -9.5 to -8.5 are rounded to \n",
    "- The bin of the number -9, but the values from -10 to -9.5 are rounder to the bin -10 and a half is missing, so the -10 \n",
    "- bin sees its values sampled half as often as -9. That explains the border effect, and you could fix it easily by taking the uniform range from -10.49999 to 10.49999."
   ]
  },
  {
   "cell_type": "markdown",
   "metadata": {},
   "source": [
    "### Quantized Uniform"
   ]
  },
  {
   "cell_type": "code",
   "execution_count": null,
   "metadata": {
    "pycharm": {
     "is_executing": false,
     "name": "#%%\n"
    }
   },
   "outputs": [],
   "source": [
    "quantized_hyperparameter_space = HyperparameterSpace({\n",
    "    \"quantized uniform\": Quantized(Uniform(1., 5.))\n",
    "})\n",
    "plot_distribution_space(quantized_hyperparameter_space, num_bins=DISCRETE_NUM_BINS)"
   ]
  },
  {
   "cell_type": "markdown",
   "metadata": {},
   "source": [
    "### Repaired Quantized Uniform"
   ]
  },
  {
   "cell_type": "code",
   "execution_count": null,
   "metadata": {},
   "outputs": [],
   "source": [
    "quantized_hyperparameter_space = HyperparameterSpace({\n",
    "    \"repaired quantized uniform\": Quantized(Uniform(0.49999, 5.49999))\n",
    "})\n",
    "\n",
    "plot_distribution_space(quantized_hyperparameter_space, num_bins=DISCRETE_NUM_BINS)"
   ]
  },
  {
   "cell_type": "markdown",
   "metadata": {},
   "source": [
    "### Quantized Log Uniform"
   ]
  },
  {
   "cell_type": "code",
   "execution_count": null,
   "metadata": {},
   "outputs": [],
   "source": [
    "quantized_hyperparameter_space = HyperparameterSpace({\n",
    "    \"quantized loguniform\": Quantized(LogUniform(1.0, 4.0))\n",
    "})\n",
    "\n",
    "plot_distribution_space(quantized_hyperparameter_space, num_bins=DISCRETE_NUM_BINS)"
   ]
  },
  {
   "cell_type": "markdown",
   "metadata": {},
   "source": [
    "### Quantized Normal "
   ]
  },
  {
   "cell_type": "code",
   "execution_count": null,
   "metadata": {},
   "outputs": [],
   "source": [
    "quantized_hyperparameter_space = HyperparameterSpace({\n",
    "    \"quantized normal\": Quantized(Normal(3.0, 1.0))\n",
    "})\n",
    "\n",
    "plot_distribution_space(quantized_hyperparameter_space, num_bins=DISCRETE_NUM_BINS)"
   ]
  },
  {
   "cell_type": "markdown",
   "metadata": {},
   "source": [
    "### Quantized Lognormal"
   ]
  },
  {
   "cell_type": "code",
   "execution_count": null,
   "metadata": {},
   "outputs": [],
   "source": [
    "quantized_hyperparameter_space = HyperparameterSpace({\n",
    "    \"quantized lognormal\": Quantized(LogNormal(1.0, 0.5))\n",
    "})\n",
    "plot_distribution_space(quantized_hyperparameter_space, num_bins=DISCRETE_NUM_BINS)"
   ]
  }
 ],
 "metadata": {
  "kernelspec": {
   "display_name": "Neuraxle",
   "language": "python",
   "name": "neuraxle"
  },
  "language_info": {
   "codemirror_mode": {
    "name": "ipython",
    "version": 3
   },
   "file_extension": ".py",
   "mimetype": "text/x-python",
   "name": "python",
   "nbconvert_exporter": "python",
   "pygments_lexer": "ipython3",
   "version": "3.6.8"
  },
  "pycharm": {
   "stem_cell": {
    "cell_type": "raw",
    "metadata": {
     "collapsed": false
    },
    "source": []
   }
  }
 },
 "nbformat": 4,
 "nbformat_minor": 1
}
