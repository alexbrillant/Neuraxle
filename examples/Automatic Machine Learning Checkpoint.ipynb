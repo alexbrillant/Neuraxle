{
 "cells": [
  {
   "cell_type": "code",
   "execution_count": null,
   "metadata": {},
   "outputs": [],
   "source": [
    "import shutil\n",
    "import time\n",
    "\n",
    "import numpy as np\n",
    "\n",
    "from neuraxle.base import BaseStep, NonFittableMixin\n",
    "from neuraxle.checkpoints import DefaultCheckpoint\n",
    "from neuraxle.hyperparams.distributions import RandInt\n",
    "from neuraxle.hyperparams.space import HyperparameterSpace\n",
    "from neuraxle.metaopt.random import RandomSearch\n",
    "from neuraxle.pipeline import ResumablePipeline, DEFAULT_CACHE_FOLDER, Pipeline\n",
    "\n",
    "shutil.rmtree(DEFAULT_CACHE_FOLDER)"
   ]
  },
  {
   "cell_type": "code",
   "execution_count": null,
   "metadata": {},
   "outputs": [],
   "source": [
    "class Multiplication(NonFittableMixin, BaseStep):\n",
    "    def __init__(self, sleep_time=0.010, hyperparams=None, hyperparams_space=None):\n",
    "        BaseStep.__init__(self, hyperparams=hyperparams, hyperparams_space=hyperparams_space)\n",
    "        self.sleep_time = sleep_time\n",
    "\n",
    "    def transform(self, data_inputs):\n",
    "        time.sleep(self.sleep_time)\n",
    "        if not isinstance(data_inputs, np.ndarray):\n",
    "            data_inputs = np.array(data_inputs)\n",
    "\n",
    "        return data_inputs * self.hyperparams['hp_mul']"
   ]
  },
  {
   "cell_type": "code",
   "execution_count": null,
   "metadata": {},
   "outputs": [],
   "source": [
    "def mean_squared_error(actual_outputs, expected_outputs):\n",
    "    mses = [(a - b) ** 2 for a, b in zip(actual_outputs, expected_outputs)]\n",
    "    return sum(mses) / float(len(mses))"
   ]
  },
  {
   "cell_type": "code",
   "execution_count": null,
   "metadata": {},
   "outputs": [],
   "source": [
    "def run_random_search(p, hyperparams_space, data_inputs, expected_outputs):\n",
    "    time_a = time.time()\n",
    "    p.set_hyperparams_space(hyperparams_space)\n",
    "\n",
    "    random_search = RandomSearch(\n",
    "       n_iter=200,\n",
    "       higher_score_is_better=True,\n",
    "       print=True\n",
    "    ).set_step(p).fit(data_inputs, expected_outputs)\n",
    "\n",
    "    outputs = random_search.transform(data_inputs)\n",
    "\n",
    "    time_b = time.time()\n",
    "\n",
    "    actual_score = mean_squared_error(outputs, expected_outputs)\n",
    "    print('{0} seconds'.format(time_b - time_a))\n",
    "    print('output: {0}'.format(outputs))\n",
    "    print('smallest mse: {0}'.format(actual_score))\n",
    "    print('best hyperparams: {0}'.format(p.get_hyperparams()))"
   ]
  },
  {
   "cell_type": "code",
   "execution_count": null,
   "metadata": {},
   "outputs": [],
   "source": [
    "hyperparams_space = HyperparameterSpace({\n",
    "    'multiplication_2__hp_mul': RandInt(1, 3),\n",
    "    'multiplication_3__hp_mul': RandInt(1, 3),\n",
    "    'multiplication_4__hp_mul': RandInt(1, 3),\n",
    "    'multiplication_5__hp_mul': RandInt(1, 3),\n",
    "    'multiplication_6__hp_mul': RandInt(1, 3),\n",
    "    'multiplication_7__hp_mul': RandInt(1, 3),\n",
    "    'multiplication_8__hp_mul': RandInt(1, 3),\n",
    "    'multiplication_9__hp_mul': RandInt(1, 3),\n",
    "    'multiplication_10__hp_mul': RandInt(1, 3),\n",
    "    'multiplication_11__hp_mul': RandInt(1, 3)\n",
    "})\n",
    "\n",
    "data_inputs = np.array(range(10))\n",
    "expected_outputs = np.array(range(10, 20))"
   ]
  },
  {
   "cell_type": "code",
   "execution_count": null,
   "metadata": {},
   "outputs": [],
   "source": [
    "pipeline = Pipeline([\n",
    "    ('multiplication_2', Multiplication(sleep_time=0.01)),\n",
    "    ('multiplication_3', Multiplication(sleep_time=0.01)),\n",
    "    ('multiplication_4', Multiplication(sleep_time=0.01)),\n",
    "    ('multiplication_5', Multiplication(sleep_time=0.01)),\n",
    "    ('multiplication_6', Multiplication(sleep_time=0.01)),\n",
    "    ('multiplication_7', Multiplication(sleep_time=0.01)),\n",
    "    ('multiplication_8', Multiplication(sleep_time=0.01)),\n",
    "    ('multiplication_9', Multiplication(sleep_time=0.01)),\n",
    "    ('multiplication_10', Multiplication(sleep_time=0.01)),\n",
    "    ('multiplication_11', Multiplication(sleep_time=0.01)),\n",
    "])\n",
    "    \n",
    "print('Classic Pipeline')\n",
    "    \n",
    "run_random_search(pipeline, hyperparams_space, data_inputs, expected_outputs)\n",
    "\n",
    "print('\\n')"
   ]
  },
  {
   "cell_type": "code",
   "execution_count": null,
   "metadata": {},
   "outputs": [],
   "source": [
    "resumable_pipeline = ResumablePipeline([\n",
    "    ('multiplication_2', Multiplication(sleep_time=0.01)),\n",
    "    ('multiplication_3', Multiplication(sleep_time=0.01)),\n",
    "    ('checkpoint_1', DefaultCheckpoint()),\n",
    "    ('multiplication_4', Multiplication(sleep_time=0.01)),\n",
    "    ('multiplication_5', Multiplication(sleep_time=0.01)),\n",
    "    ('checkpoint_2', DefaultCheckpoint()),\n",
    "    ('multiplication_6', Multiplication(sleep_time=0.01)),\n",
    "    ('multiplication_7', Multiplication(sleep_time=0.01)),\n",
    "    ('checkpoint_3', DefaultCheckpoint()),\n",
    "    ('multiplication_8', Multiplication(sleep_time=0.01)),\n",
    "    ('multiplication_9', Multiplication(sleep_time=0.01)),\n",
    "    ('checkpoint_4', DefaultCheckpoint()),\n",
    "    ('multiplication_10', Multiplication(sleep_time=0.01)),\n",
    "    ('multiplication_11', Multiplication(sleep_time=0.01)),\n",
    "])\n",
    "    \n",
    "print('Resumable Pipeline')\n",
    "run_random_search(resumable_pipeline, hyperparams_space, data_inputs, expected_outputs)\n",
    "\n",
    "shutil.rmtree(DEFAULT_CACHE_FOLDER)"
   ]
  }
 ],
 "metadata": {
  "kernelspec": {
   "display_name": "Python 3",
   "language": "python",
   "name": "python3"
  },
  "language_info": {
   "codemirror_mode": {
    "name": "ipython",
    "version": 3
   },
   "file_extension": ".py",
   "mimetype": "text/x-python",
   "name": "python",
   "nbconvert_exporter": "python",
   "pygments_lexer": "ipython3",
   "version": "3.7.3"
  }
 },
 "nbformat": 4,
 "nbformat_minor": 1
}
