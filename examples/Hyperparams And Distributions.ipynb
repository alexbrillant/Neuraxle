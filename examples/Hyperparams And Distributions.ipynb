{
 "cells": [
  {
   "cell_type": "markdown",
   "metadata": {},
   "source": [
    "# Hyperparams And Distributions"
   ]
  },
  {
   "cell_type": "code",
   "execution_count": null,
   "metadata": {},
   "outputs": [],
   "source": []
  },
  {
   "cell_type": "markdown",
   "metadata": {},
   "source": [
    "## Scipy Distributions \n",
    "\n",
    "Neuraxle is compaptible with scipy distributions. You can use all of the scipy distribution methods you love.\n",
    "To use scipy distributions in Neuraxle, simply use the ScipyDistributionWrapper: "
   ]
  },
  {
   "cell_type": "code",
   "execution_count": null,
   "metadata": {},
   "outputs": [],
   "source": [
    "class RandInt(ScipyDistributionWrapper):\n",
    "    \"\"\"\n",
    "    Rand int scipy distribution. Check out `scipy.stats.randint for more info <https://docs.scipy.org/doc/scipy-0.15.1/reference/generated/scipy.stats.randint.html>`_\n",
    "    \"\"\"\n",
    "    def __init__(self, min_included: int, max_included: int, null_default_value: float = None):\n",
    "        super().__init__(\n",
    "            self,\n",
    "            scipy_distribution=randint(low=min_included, high=max_included),\n",
    "            null_default_value=null_default_value\n",
    "        )"
   ]
  }
 ],
 "metadata": {
  "kernelspec": {
   "display_name": "Neuraxle",
   "language": "python",
   "name": "neuraxle"
  },
  "language_info": {
   "codemirror_mode": {
    "name": "ipython",
    "version": 3
   },
   "file_extension": ".py",
   "mimetype": "text/x-python",
   "name": "python",
   "nbconvert_exporter": "python",
   "pygments_lexer": "ipython3",
   "version": "3.6.8"
  }
 },
 "nbformat": 4,
 "nbformat_minor": 4
}
