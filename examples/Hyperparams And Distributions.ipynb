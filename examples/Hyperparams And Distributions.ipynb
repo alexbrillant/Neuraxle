{
 "cells": [
  {
   "cell_type": "markdown",
   "metadata": {},
   "source": [
    "# Hyperparams And Distributions"
   ]
  },
  {
   "cell_type": "markdown",
   "metadata": {},
   "source": [
    "This page introduces the hyperparams, and distributions in Neuraxle. You can find [Hyperparams Distribution API here](https://www.neuraxle.org/stable/api/neuraxle.hyperparams.distributions.html), and \n",
    "[Hyperparameter Samples API here](https://www.neuraxle.org/stable/api/neuraxle.hyperparams.space.html).\n",
    "\n",
    "Hyperparameter is a parameter drawn from a prior distribution. In Neuraxle, we have a few built-in distributions, and we are also compatible with scipy distributions. \n",
    "\n",
    "Create a [Uniform Distribution](https://www.neuraxle.org/stable/api/neuraxle.hyperparams.distributions.html#neuraxle.hyperparams.distributions.Uniform):"
   ]
  },
  {
   "cell_type": "code",
   "execution_count": null,
   "metadata": {},
   "outputs": [],
   "source": [
    "from neuraxle.hyperparams.distributions import Uniform\n",
    "\n",
    "hd = Uniform(\n",
    "    min_included=-10, \n",
    "    max_included=10, \n",
    "    null_default_value=0\n",
    ")"
   ]
  },
  {
   "cell_type": "markdown",
   "metadata": {},
   "source": [
    "Sample the random variable using [rvs](https://www.neuraxle.org/stable/api/neuraxle.hyperparams.distributions.html#neuraxle.hyperparams.distributions.HyperparameterDistribution.rvs):"
   ]
  },
  {
   "cell_type": "code",
   "execution_count": null,
   "metadata": {},
   "outputs": [],
   "source": [
    "sample = hd.rvs()\n",
    "print(sample)"
   ]
  },
  {
   "cell_type": "markdown",
   "metadata": {},
   "source": [
    "Nullify the random variable using [nullify](https://www.neuraxle.org/stable/api/neuraxle.hyperparams.distributions.html#neuraxle.hyperparams.distributions.HyperparameterDistribution.nullify):"
   ]
  },
  {
   "cell_type": "code",
   "execution_count": null,
   "metadata": {},
   "outputs": [],
   "source": [
    "nullified_sample = hd.nullify()\n",
    "assert nullified_sample == hd.null_default_value"
   ]
  },
  {
   "cell_type": "markdown",
   "metadata": {},
   "source": [
    "Get the probability distribution function value at `x` using [pdf](https://www.neuraxle.org/stable/api/neuraxle.hyperparams.distributions.html#neuraxle.hyperparams.distributions.HyperparameterDistribution.pdf):"
   ]
  },
  {
   "cell_type": "code",
   "execution_count": null,
   "metadata": {},
   "outputs": [],
   "source": [
    "pdf = hd.pdf(1)\n",
    "print('pdf: {}'.format(pdf))"
   ]
  },
  {
   "cell_type": "markdown",
   "metadata": {},
   "source": [
    "Get the cumulative probability distribution function value at `x` using [cdf](https://www.neuraxle.org/stable/api/neuraxle.hyperparams.distributions.html#neuraxle.hyperparams.distributions.HyperparameterDistribution.cdf)"
   ]
  },
  {
   "cell_type": "code",
   "execution_count": null,
   "metadata": {},
   "outputs": [],
   "source": [
    "cdf = hd.cdf(1)\n",
    "print('cdf: {}'.format(cdf))"
   ]
  },
  {
   "cell_type": "markdown",
   "metadata": {},
   "source": [
    "## Setting And Updating Hyperparams\n",
    "\n",
    "\n",
    "In Neuraxle, each step has hyperparams of type [HyperparameterSamples](https://www.neuraxle.org/stable/api/neuraxle.hyperparams.space.html#neuraxle.hyperparams.space.HyperparameterSamples), and spaces of type [HyperparameterSpace](https://www.neuraxle.org/stable/api/neuraxle.hyperparams.distributions.html#neuraxle.hyperparams.distributions.HyperparameterDistribution).  \n",
    "\n",
    "Consider a simple pipeline that contains 2 MultiplyByN steps, and one PCA component inside a nested pipeline:"
   ]
  },
  {
   "cell_type": "code",
   "execution_count": null,
   "metadata": {},
   "outputs": [],
   "source": [
    "from sklearn.decomposition import PCA\n",
    "\n",
    "from neuraxle.hyperparams.distributions import RandInt\n",
    "from neuraxle.hyperparams.space import HyperparameterSpace\n",
    "from neuraxle.pipeline import Pipeline\n",
    "from neuraxle.steps.numpy import MultiplyByN\n",
    "\n",
    "p = Pipeline([\n",
    "    ('step1', MultiplyByN(2)),\n",
    "    ('step2', MultiplyByN(2)),\n",
    "    Pipeline([\n",
    "        PCA(n_components=4)\n",
    "    ])\n",
    "])"
   ]
  },
  {
   "cell_type": "markdown",
   "metadata": {},
   "source": [
    "We can set or update the hyperparams, and spaces by doing the following:  "
   ]
  },
  {
   "cell_type": "code",
   "execution_count": null,
   "metadata": {},
   "outputs": [],
   "source": [
    "p.set_hyperparams(HyperparameterSamples({\n",
    "    'step1__multiply_by': 42,\n",
    "    'step2__multiply_by': -10,\n",
    "    'Pipeline__PCA__n_components': 2\n",
    "}))\n",
    "\n",
    "p.update_hyperparams_space(HyperparameterSamples({\n",
    "    'Pipeline__PCA__n_components': 3\n",
    "}))\n",
    "\n",
    "p.set_hyperparams_space(HyperparameterSpace({\n",
    "    'step1__multiply_by': RandInt(42, 50),\n",
    "    'step2__multiply_by': RandInt(-10, 0),\n",
    "    'Pipeline__PCA__n_components': RandInt(2, 3)\n",
    "}))\n",
    "\n",
    "p.update_hyperparams_space(HyperparameterSpace({\n",
    "    'Pipeline__PCA__n_components': RandInt(2, 5)\n",
    "}))"
   ]
  },
  {
   "cell_type": "markdown",
   "metadata": {},
   "source": [
    "We can sample the space of random variables:"
   ]
  },
  {
   "cell_type": "code",
   "execution_count": null,
   "metadata": {},
   "outputs": [],
   "source": [
    "samples = p.get_hyperparams_space().rvs()\n",
    "\n",
    "assert 42 <= samples['step1__multiply_by'] <= 50\n",
    "assert -10 <= samples['step2__multiply_by'] <= 0\n",
    "assert samples['Pipeline__PCA__n_components'] in [2, 3]"
   ]
  },
  {
   "cell_type": "markdown",
   "metadata": {},
   "source": [
    "We can get all hyperparams:"
   ]
  },
  {
   "cell_type": "code",
   "execution_count": null,
   "metadata": {},
   "outputs": [],
   "source": [
    "samples = p.get_hyperparams()\n",
    "\n",
    "assert 42 <= samples['step1__multiply_by'] <= 50\n",
    "assert -10 <= samples['step2__multiply_by'] <= 0\n",
    "assert samples['Pipeline__PCA__n_components'] in [2, 3]\n",
    "assert p['Pipeline']['PCA'].get_wrapped_sklearn_predictor().n_components in [2, 3]"
   ]
  },
  {
   "cell_type": "markdown",
   "metadata": {},
   "source": [
    "## Neuraxle Custom Distributions"
   ]
  },
  {
   "cell_type": "markdown",
   "metadata": {},
   "source": [
    "## Scipy Distributions \n",
    "\n",
    "Neuraxle is compaptible with scipy distributions.\n",
    "To use scipy distributions in Neuraxle, we can simply wrap them with ScipyDistributionWrapper: "
   ]
  },
  {
   "cell_type": "code",
   "execution_count": null,
   "metadata": {},
   "outputs": [],
   "source": [
    "from neuraxle.hyperparams.scipy_distributions import ScipyDistributionWrapper\n",
    "\n",
    "hd = ScipyDistributionWrapper(\n",
    "    scipy_distribution=randint(low=min_included, high=max_included),\n",
    "    null_default_value=null_default_value\n",
    ")"
   ]
  },
  {
   "cell_type": "markdown",
   "metadata": {},
   "source": [
    "All of the scipy distribution methods are available:"
   ]
  },
  {
   "cell_type": "code",
   "execution_count": null,
   "metadata": {},
   "outputs": [],
   "source": [
    "samples = get_many_samples_for(hd)\n",
    "\n",
    "for s in samples:\n",
    "    assert type(s) == int\n",
    "samples_mean = np.abs(np.mean(samples))\n",
    "assert samples_mean < 1.0\n",
    "assert min(samples) >= -10.0\n",
    "assert max(samples) <= 10.0\n",
    "\n",
    "assert hd.pdf(-11) == 0.\n",
    "assert abs(hd.pdf(-10) - 1 / (10 + 10 + 1)) < 1e-6\n",
    "assert abs(hd.pdf(0) - 1 / (10 + 10 + 1)) < 1e-6\n",
    "assert hd.pdf(0.5) == 0.\n",
    "assert abs(hd.pdf(10) - 1 / (10 + 10 + 1)) < 1e-6\n",
    "assert hd.pdf(11) == 0.\n",
    "\n",
    "assert hd.cdf(-10.1) == 0.\n",
    "assert abs(hd.cdf(-10) - 1 / (10 + 10 + 1)) < 1e-6\n",
    "assert abs(hd.cdf(0) - (0 + 10 + 1) / (10 + 10 + 1)) < 1e-6\n",
    "assert abs(hd.cdf(5) - (5 + 10 + 1) / (10 + 10 + 1)) < 1e-6\n",
    "assert abs(hd.cdf(10) - 1.) < 1e-6\n",
    "assert hd.cdf(10.1) == 1.\n",
    "\n",
    "assert hd.logpdf(5) == -13.418938533204672\n",
    "assert hd.logcdf(5) == -0.6931477538632531\n",
    "assert hd.sf(5) == 0.5000002866515718\n",
    "assert hd.logsf(5) == -0.693146607256966\n",
    "assert np.all(hd.ppf([0.0, 0.01, 0.05, 0.1, 1 - 0.10, 1 - 0.05, 1 - 0.01, 1.0], 10))\n",
    "assert hd.isf(q=0.5) == 8.798228093189323\n",
    "assert hd.moment(2) == 50.50000000091249\n",
    "assert hd.stats()[0]\n",
    "assert hd.stats()[1]\n",
    "assert np.array_equal(hd.entropy(), np.array(0.7094692666023363))\n",
    "assert hd.median()\n",
    "assert hd.mean() == 5.398942280397029\n",
    "assert hd.std() == 4.620759921685374\n",
    "assert hd.var() == 21.35142225385382\n",
    "assert hd.expect() == 0.39894228040143276\n",
    "interval = hd.interval(alpha=[0.25, 0.50])\n",
    "assert np.all(interval[0])\n",
    "assert np.all(interval[1])\n",
    "assert hd.support() == (0, 10)"
   ]
  },
  {
   "cell_type": "markdown",
   "metadata": {},
   "source": [
    "## SKLearn Hyperparams\n",
    "\n",
    "SKLearnWrapper wraps sklearn predictors so that they can be compatible with Neuraxle. When you set the hyperparams of an SKLearnWrapper, it automatically sets the params of the sklearn predictor for you: "
   ]
  },
  {
   "cell_type": "code",
   "execution_count": null,
   "metadata": {},
   "outputs": [],
   "source": [
    "from neuraxle.hyperparams.distributions import Choice\n",
    "from neuraxle.hyperparams.distributions import RandIn\n",
    "from neuraxle.hyperparams.space import HyperparameterSpace\n",
    "from neuraxle.steps.sklearn import SKLearnWrapper\n",
    "from sklearn.tree import DecisionTreeClassifier\n",
    "\n",
    "\n",
    "decision_tree_classifier = SKLearnWrapper(\n",
    "    DecisionTreeClassifier(), \n",
    "    HyperparameterSpace({\n",
    "        'criterion': Choice(['gini', 'entropy']), \n",
    "        'splitter': Choice(['best', 'random']),\n",
    "        'min_samples_leaf': RandInt(2, 5), \n",
    "        'min_samples_split': RandInt(1, 3) \n",
    "    })\n",
    ").set_hyperparams(HyperparameterSamples({\n",
    "    'criterion': 'gini', \n",
    "    'splitter': 'best',\n",
    "    'min_samples_leaf': 3, \n",
    "    'min_samples_split': 3 \n",
    "}))"
   ]
  }
 ],
 "metadata": {
  "kernelspec": {
   "display_name": "Neuraxle",
   "language": "python",
   "name": "neuraxle"
  },
  "language_info": {
   "codemirror_mode": {
    "name": "ipython",
    "version": 3
   },
   "file_extension": ".py",
   "mimetype": "text/x-python",
   "name": "python",
   "nbconvert_exporter": "python",
   "pygments_lexer": "ipython3",
   "version": "3.6.8"
  }
 },
 "nbformat": 4,
 "nbformat_minor": 4
}
